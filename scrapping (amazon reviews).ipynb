{
 "cells": [
  {
   "cell_type": "code",
   "execution_count": 1,
   "metadata": {},
   "outputs": [],
   "source": [
    "url=\"https://www.amazon.in/Test-Exclusive_2020_1178-Multi-3GB-Storage/product-reviews/B089MTJVLD/ref=cm_cr_arp_d_paging_btm_next_1?ie=UTF8&reviewerType=all_reviews&pageNumber=1\""
   ]
  },
  {
   "cell_type": "code",
   "execution_count": 2,
   "metadata": {},
   "outputs": [
    {
     "name": "stdout",
     "output_type": "stream",
     "text": [
      "https://www.amazon.in/Test-Exclusive_2020_1178-Multi-3GB-Storage/product-reviews/B089MTJVLD/ref=cm_cr_arp_d_paging_btm_next_1?ie=UTF8&reviewerType=all_reviews&pageNumber=1\n"
     ]
    }
   ],
   "source": [
    "import requests \n",
    "import bs4\n",
    "print(url)"
   ]
  },
  {
   "cell_type": "code",
   "execution_count": 3,
   "metadata": {},
   "outputs": [],
   "source": [
    "resp=requests.get(url)"
   ]
  },
  {
   "cell_type": "code",
   "execution_count": 4,
   "metadata": {},
   "outputs": [
    {
     "data": {
      "text/plain": [
       "200"
      ]
     },
     "execution_count": 4,
     "metadata": {},
     "output_type": "execute_result"
    }
   ],
   "source": [
    "resp.status_code"
   ]
  },
  {
   "cell_type": "code",
   "execution_count": 5,
   "metadata": {},
   "outputs": [
    {
     "data": {
      "text/plain": [
       "'text/html;charset=UTF-8'"
      ]
     },
     "execution_count": 5,
     "metadata": {},
     "output_type": "execute_result"
    }
   ],
   "source": [
    "resp.headers['content-type']"
   ]
  },
  {
   "cell_type": "code",
   "execution_count": 6,
   "metadata": {},
   "outputs": [],
   "source": [
    "soup=bs4.BeautifulSoup(resp.content,'html5')"
   ]
  },
  {
   "cell_type": "code",
   "execution_count": 7,
   "metadata": {},
   "outputs": [
    {
     "data": {
      "text/plain": [
       "<div class=\"a-row a-spacing-small review-data\"><span class=\"a-size-base review-text review-text-content\" data-hook=\"review-body\">\n",
       "\n",
       "\n",
       "\n",
       "\n",
       "\n",
       "\n",
       "\n",
       "\n",
       "\n",
       "  \n",
       "  \n",
       "    <span>\n",
       "  Battery Issue.... Phone is Heating during Charging and During Running Application.\n",
       "</span>\n",
       "  \n",
       "</span></div>"
      ]
     },
     "execution_count": 7,
     "metadata": {},
     "output_type": "execute_result"
    }
   ],
   "source": [
    "soup.find(attrs={\"class\":\"a-row a-spacing-small review-data\"})"
   ]
  },
  {
   "cell_type": "code",
   "execution_count": 8,
   "metadata": {},
   "outputs": [
    {
     "data": {
      "text/plain": [
       "'Battery Issue.... Phone is Heating during Charging and During Running Application.'"
      ]
     },
     "execution_count": 8,
     "metadata": {},
     "output_type": "execute_result"
    }
   ],
   "source": [
    "soup.find('div',attrs={\"class\":\"a-row a-spacing-small review-data\"}).text.strip()"
   ]
  },
  {
   "cell_type": "code",
   "execution_count": 9,
   "metadata": {},
   "outputs": [],
   "source": [
    "reviews = [tag.text.strip() for tag in soup.find_all(attrs={\"class\":\"a-row a-spacing-small review-data\"})]"
   ]
  },
  {
   "cell_type": "code",
   "execution_count": 10,
   "metadata": {},
   "outputs": [
    {
     "data": {
      "text/plain": [
       "10"
      ]
     },
     "execution_count": 10,
     "metadata": {},
     "output_type": "execute_result"
    }
   ],
   "source": [
    "len(reviews)"
   ]
  },
  {
   "cell_type": "code",
   "execution_count": 11,
   "metadata": {},
   "outputs": [
    {
     "name": "stdout",
     "output_type": "stream",
     "text": [
      "Battery Issue.... Phone is Heating during Charging and During Running Application.\n",
      "\n",
      "Facing heating issue while using camera app and general usage in 60hz refresh rate if I use 120hz it gradually heating issue increase please solve this problem\n",
      "\n",
      "My first time buying a OnePlus phone and I really like the finish of the one. Camera is excellent, Android 11 is very smooth to use, functions are fast.Just my first day of usage so hard to be critical of anything. The downside for me is that there is no place expand the memory.\n",
      "\n",
      "Within 10 minutes of usage. It’s felt like over heat. I can’t experienced any mobile like this.\n",
      "\n",
      "Iam OnePlus user since 4 years, I exchange my one Plus 7 pro mobile with OnePlus 9 R Not expected From One Plus, quality is not good, Look like cheep mobile, camera quality also not good, one Plus 7 pro superb mobile, totally iam disappointed with 9R.\n",
      "\n",
      "I don't why no reviewer is speaking about it. It was heating with a normal usage.\n",
      "\n",
      "After 5 days of usage writing this review.1. Best camera quality for the price2. Snapdragon 870 is doing its best in speed with 120Hz display. - Best3. 65W charger takes only 35 min to charge 100% from 15%. - Best4.  Fluid amoled display is awesome on its smoothness. - best5. Lake blue colour is simply awesome 💙Issues1. Facing very lite heating issue.2. Found a bug and informed OnePlus customer service which is if we turn on call recording on call it indicates opponent also that we are recording call. They told they will correct it in next update. Hope this will be cleared but not sure.I give 95/100 for this mobile.\n",
      "\n",
      "I am writing down this after using for a couple of days. I got the carbon black one with 12GB RAM.  Overall the device is good, and honestly is the reskin of one plus 8T with lower price 😁.  I will list down the pros and cons -pros -1. With Oxygen OS 11, the overall user experience is quite smooth. You will get an update as soon as you finish setup.2. The Warp 65 fast charging is fine, takes around 35 mins for one full charge.3. The screen to body ratio is good.4. The matt finish on the back side is awesome.Cons -1. Battery drains a little fast, not sure if some future updates will fix it.2. Rear Camera is ok, can be better.3. I would have preferred popup front camera, rather than the punch hole.4. For dual apps, I would have loved to see the option for all apps. Right now it has support for few.5. support for few more 5G bands will be good to have.\n",
      "\n",
      "Writing after 4 Days of use1. Heating Issues -you will start noticing from the very first use2. Battery - charges 0 to 100 in just 35-40 mins but also drains so fast. Need to Charges twice in a day after using whatsapp, some browsing, calling.3. Camera - Not very good. Less than as expected. Think twice before buying if you are camera enthusiastic.4. Smooth- 120hZ and 60hZ both condition works well. I found it smooth to use and open apps5. Snap 870 processor really works.6. Other Oneplus features works good.7. Not a flagship phone.Money and Decision is yours..!!Thanks\n",
      "\n",
      "I have recieved this new phone yesterday. Since I have started using its been heating all the time, while on charge, playing games etc.. All other things are pretty good.\n"
     ]
    }
   ],
   "source": [
    "print(*reviews,sep='\\n\\n')"
   ]
  },
  {
   "cell_type": "code",
   "execution_count": 12,
   "metadata": {},
   "outputs": [],
   "source": [
    "ratings=[tag.text.split()[0] for tag in soup.find_all('i',attrs={\"data-hook\":\"review-star-rating\"})]"
   ]
  },
  {
   "cell_type": "code",
   "execution_count": 13,
   "metadata": {},
   "outputs": [],
   "source": [
    "import time\n",
    "import tqdm"
   ]
  },
  {
   "cell_type": "code",
   "execution_count": 14,
   "metadata": {},
   "outputs": [],
   "source": [
    "def get_all_reviews(start,end):\n",
    "    url=\"https://www.amazon.in/Test-Exclusive_2020_1178-Multi-3GB-Storage/product-reviews/B089MTJVLD/ref=cm_cr_arp_d_paging_btm_next_{}?ie=UTF8&reviewerType=all_reviews&pageNumber={}\"\n",
    "    page=0\n",
    "    err_pages=[]\n",
    "    data={\n",
    "        'reviews':[],\n",
    "         'ratings':[]\n",
    "         }\n",
    "    for c in tqdm.tqdm(range(start,end)):\n",
    "        resp=requests.get(url.format(c,c))\n",
    "        if resp.status_code==200:\n",
    "            soup=bs4.BeautifulSoup(resp.content,'html5')\n",
    "            reviews = [tag.text.strip() for tag in soup.find_all(attrs={\"class\":\"a-row a-spacing-small review-data\"})]\n",
    "            ratings=[tag.text.split()[0] for tag in soup.find_all('i',attrs={\"data-hook\":\"review-star-rating\"})]\n",
    "            data['reviews'].extend(reviews)\n",
    "            data['ratings'].extend(ratings)\n",
    "            if len(reviews)<5:\n",
    "                print('-'*100)\n",
    "                print('successful'.center(50))\n",
    "                print('-'*100)\n",
    "                break\n",
    "        elif resp.status_code==503:\n",
    "            err_pages.append(c)\n",
    "        else:\n",
    "            print(f'Error!! {resp.status_code} {resp.reason}')\n",
    "            break\n",
    "        \n",
    "        page+=1\n",
    "    return data,page,err_pages"
   ]
  },
  {
   "cell_type": "code",
   "execution_count": 15,
   "metadata": {},
   "outputs": [
    {
     "name": "stderr",
     "output_type": "stream",
     "text": [
      "100%|██████████████████████████████████████████████████████████████████████████████████| 99/99 [01:26<00:00,  1.14it/s]\n"
     ]
    }
   ],
   "source": [
    "data,page,err_pages=get_all_reviews(1,100)"
   ]
  },
  {
   "cell_type": "code",
   "execution_count": 16,
   "metadata": {},
   "outputs": [
    {
     "data": {
      "text/plain": [
       "99"
      ]
     },
     "execution_count": 16,
     "metadata": {},
     "output_type": "execute_result"
    }
   ],
   "source": [
    "page"
   ]
  },
  {
   "cell_type": "code",
   "execution_count": 17,
   "metadata": {},
   "outputs": [
    {
     "data": {
      "text/plain": [
       "810"
      ]
     },
     "execution_count": 17,
     "metadata": {},
     "output_type": "execute_result"
    }
   ],
   "source": [
    "len(data['reviews'])"
   ]
  },
  {
   "cell_type": "code",
   "execution_count": 18,
   "metadata": {},
   "outputs": [
    {
     "data": {
      "text/plain": [
       "18"
      ]
     },
     "execution_count": 18,
     "metadata": {},
     "output_type": "execute_result"
    }
   ],
   "source": [
    "len(err_pages)"
   ]
  },
  {
   "cell_type": "code",
   "execution_count": 19,
   "metadata": {},
   "outputs": [],
   "source": [
    "def get_err_pages(nums):\n",
    "    url=\"https://www.amazon.in/Test-Exclusive_2020_1178-Multi-3GB-Storage/product-reviews/B089MTJVLD/ref=cm_cr_arp_d_paging_btm_next_{}?ie=UTF8&reviewerType=all_reviews&pageNumber={}\"\n",
    "    page=0\n",
    "    err_pages=[]\n",
    "    data={\n",
    "        'reviews':[],\n",
    "         'ratings':[]\n",
    "         }\n",
    "    for c in tqdm.tqdm(nums):\n",
    "        resp=requests.get(url.format(c,c))\n",
    "        if resp.status_code==200:\n",
    "            soup=bs4.BeautifulSoup(resp.content,'html5')\n",
    "            reviews = [tag.text.strip() for tag in soup.find_all(attrs={\"class\":\"a-row a-spacing-small review-data\"})]\n",
    "            ratings=[tag.text.split()[0] for tag in soup.find_all('i',attrs={\"data-hook\":\"review-star-rating\"})]\n",
    "            data['reviews'].extend(reviews)\n",
    "            data['ratings'].extend(ratings)\n",
    "            if len(reviews)<5:\n",
    "                print('-'*100)\n",
    "                print('successful'.center(50))\n",
    "                print('-'*100)\n",
    "                break\n",
    "        elif resp.status_code==503:\n",
    "            err_pages.append(c)\n",
    "        else:\n",
    "            print(f'Error!! {resp.status_code} {resp.reason}')\n",
    "            break\n",
    "        \n",
    "        page+=1\n",
    "    return data,page,err_pages"
   ]
  },
  {
   "cell_type": "code",
   "execution_count": 20,
   "metadata": {},
   "outputs": [
    {
     "name": "stderr",
     "output_type": "stream",
     "text": [
      "100%|██████████████████████████████████████████████████████████████████████████████████| 18/18 [00:17<00:00,  1.04it/s]\n"
     ]
    }
   ],
   "source": [
    "d,p,e=get_err_pages(err_pages)"
   ]
  },
  {
   "cell_type": "code",
   "execution_count": 23,
   "metadata": {},
   "outputs": [
    {
     "data": {
      "text/plain": [
       "180"
      ]
     },
     "execution_count": 23,
     "metadata": {},
     "output_type": "execute_result"
    }
   ],
   "source": [
    "len(d['reviews'])"
   ]
  },
  {
   "cell_type": "code",
   "execution_count": 24,
   "metadata": {},
   "outputs": [],
   "source": [
    "data['reviews'].extend(d['reviews'])\n",
    "data['ratings'].extend(d['ratings'])"
   ]
  },
  {
   "cell_type": "code",
   "execution_count": 25,
   "metadata": {},
   "outputs": [
    {
     "name": "stdout",
     "output_type": "stream",
     "text": [
      "990\n",
      "990\n"
     ]
    }
   ],
   "source": [
    "print(len(data['reviews']))\n",
    "print(len(data['ratings']))"
   ]
  },
  {
   "cell_type": "code",
   "execution_count": 26,
   "metadata": {},
   "outputs": [],
   "source": [
    "import pandas as pd"
   ]
  },
  {
   "cell_type": "code",
   "execution_count": 28,
   "metadata": {},
   "outputs": [],
   "source": [
    "df=pd.DataFrame(data)"
   ]
  },
  {
   "cell_type": "code",
   "execution_count": 29,
   "metadata": {},
   "outputs": [
    {
     "data": {
      "text/plain": [
       "990"
      ]
     },
     "execution_count": 29,
     "metadata": {},
     "output_type": "execute_result"
    }
   ],
   "source": [
    "len(df)"
   ]
  },
  {
   "cell_type": "code",
   "execution_count": 32,
   "metadata": {},
   "outputs": [
    {
     "data": {
      "text/html": [
       "<div>\n",
       "<style scoped>\n",
       "    .dataframe tbody tr th:only-of-type {\n",
       "        vertical-align: middle;\n",
       "    }\n",
       "\n",
       "    .dataframe tbody tr th {\n",
       "        vertical-align: top;\n",
       "    }\n",
       "\n",
       "    .dataframe thead th {\n",
       "        text-align: right;\n",
       "    }\n",
       "</style>\n",
       "<table border=\"1\" class=\"dataframe\">\n",
       "  <thead>\n",
       "    <tr style=\"text-align: right;\">\n",
       "      <th></th>\n",
       "      <th>reviews</th>\n",
       "      <th>ratings</th>\n",
       "    </tr>\n",
       "  </thead>\n",
       "  <tbody>\n",
       "    <tr>\n",
       "      <th>0</th>\n",
       "      <td>Battery Issue.... Phone is Heating during Char...</td>\n",
       "      <td>1.0</td>\n",
       "    </tr>\n",
       "    <tr>\n",
       "      <th>1</th>\n",
       "      <td>Facing heating issue while using camera app an...</td>\n",
       "      <td>1.0</td>\n",
       "    </tr>\n",
       "    <tr>\n",
       "      <th>2</th>\n",
       "      <td>My first time buying a OnePlus phone and I rea...</td>\n",
       "      <td>5.0</td>\n",
       "    </tr>\n",
       "    <tr>\n",
       "      <th>3</th>\n",
       "      <td>Within 10 minutes of usage. It’s felt like ove...</td>\n",
       "      <td>1.0</td>\n",
       "    </tr>\n",
       "    <tr>\n",
       "      <th>4</th>\n",
       "      <td>Iam OnePlus user since 4 years, I exchange my ...</td>\n",
       "      <td>2.0</td>\n",
       "    </tr>\n",
       "    <tr>\n",
       "      <th>5</th>\n",
       "      <td>I don't why no reviewer is speaking about it. ...</td>\n",
       "      <td>1.0</td>\n",
       "    </tr>\n",
       "    <tr>\n",
       "      <th>6</th>\n",
       "      <td>After 5 days of usage writing this review.1. B...</td>\n",
       "      <td>5.0</td>\n",
       "    </tr>\n",
       "    <tr>\n",
       "      <th>7</th>\n",
       "      <td>I am writing down this after using for a coupl...</td>\n",
       "      <td>4.0</td>\n",
       "    </tr>\n",
       "    <tr>\n",
       "      <th>8</th>\n",
       "      <td>Writing after 4 Days of use1. Heating Issues -...</td>\n",
       "      <td>3.0</td>\n",
       "    </tr>\n",
       "    <tr>\n",
       "      <th>9</th>\n",
       "      <td>I have recieved this new phone yesterday. Sinc...</td>\n",
       "      <td>3.0</td>\n",
       "    </tr>\n",
       "    <tr>\n",
       "      <th>10</th>\n",
       "      <td>Your browser does not support HTML5 video.\\n\\n...</td>\n",
       "      <td>5.0</td>\n",
       "    </tr>\n",
       "    <tr>\n",
       "      <th>11</th>\n",
       "      <td>Review (8GB):This phone has very good performa...</td>\n",
       "      <td>5.0</td>\n",
       "    </tr>\n",
       "    <tr>\n",
       "      <th>12</th>\n",
       "      <td>Worrest decision taken by OnePlus not providin...</td>\n",
       "      <td>1.0</td>\n",
       "    </tr>\n",
       "    <tr>\n",
       "      <th>13</th>\n",
       "      <td>I just switched from OP6.Unlike when I brought...</td>\n",
       "      <td>1.0</td>\n",
       "    </tr>\n",
       "    <tr>\n",
       "      <th>14</th>\n",
       "      <td>The OnePlus 9R is a fair proposition in terms ...</td>\n",
       "      <td>5.0</td>\n",
       "    </tr>\n",
       "    <tr>\n",
       "      <th>15</th>\n",
       "      <td>I got a defective phone, it is struggling in m...</td>\n",
       "      <td>1.0</td>\n",
       "    </tr>\n",
       "    <tr>\n",
       "      <th>16</th>\n",
       "      <td>Ordered Carbon Black; 12GB+256GB variant.Recie...</td>\n",
       "      <td>5.0</td>\n",
       "    </tr>\n",
       "    <tr>\n",
       "      <th>17</th>\n",
       "      <td>Got a defective product and amazon is not read...</td>\n",
       "      <td>1.0</td>\n",
       "    </tr>\n",
       "    <tr>\n",
       "      <th>18</th>\n",
       "      <td>OnePlus did a blunder with this one. Battery q...</td>\n",
       "      <td>2.0</td>\n",
       "    </tr>\n",
       "    <tr>\n",
       "      <th>19</th>\n",
       "      <td>The only reason I went for Oneplus 9R is that ...</td>\n",
       "      <td>4.0</td>\n",
       "    </tr>\n",
       "  </tbody>\n",
       "</table>\n",
       "</div>"
      ],
      "text/plain": [
       "                                              reviews ratings\n",
       "0   Battery Issue.... Phone is Heating during Char...     1.0\n",
       "1   Facing heating issue while using camera app an...     1.0\n",
       "2   My first time buying a OnePlus phone and I rea...     5.0\n",
       "3   Within 10 minutes of usage. It’s felt like ove...     1.0\n",
       "4   Iam OnePlus user since 4 years, I exchange my ...     2.0\n",
       "5   I don't why no reviewer is speaking about it. ...     1.0\n",
       "6   After 5 days of usage writing this review.1. B...     5.0\n",
       "7   I am writing down this after using for a coupl...     4.0\n",
       "8   Writing after 4 Days of use1. Heating Issues -...     3.0\n",
       "9   I have recieved this new phone yesterday. Sinc...     3.0\n",
       "10  Your browser does not support HTML5 video.\\n\\n...     5.0\n",
       "11  Review (8GB):This phone has very good performa...     5.0\n",
       "12  Worrest decision taken by OnePlus not providin...     1.0\n",
       "13  I just switched from OP6.Unlike when I brought...     1.0\n",
       "14  The OnePlus 9R is a fair proposition in terms ...     5.0\n",
       "15  I got a defective phone, it is struggling in m...     1.0\n",
       "16  Ordered Carbon Black; 12GB+256GB variant.Recie...     5.0\n",
       "17  Got a defective product and amazon is not read...     1.0\n",
       "18  OnePlus did a blunder with this one. Battery q...     2.0\n",
       "19  The only reason I went for Oneplus 9R is that ...     4.0"
      ]
     },
     "execution_count": 32,
     "metadata": {},
     "output_type": "execute_result"
    }
   ],
   "source": [
    "df.head(20)"
   ]
  },
  {
   "cell_type": "code",
   "execution_count": 33,
   "metadata": {},
   "outputs": [
    {
     "data": {
      "text/html": [
       "<div>\n",
       "<style scoped>\n",
       "    .dataframe tbody tr th:only-of-type {\n",
       "        vertical-align: middle;\n",
       "    }\n",
       "\n",
       "    .dataframe tbody tr th {\n",
       "        vertical-align: top;\n",
       "    }\n",
       "\n",
       "    .dataframe thead th {\n",
       "        text-align: right;\n",
       "    }\n",
       "</style>\n",
       "<table border=\"1\" class=\"dataframe\">\n",
       "  <thead>\n",
       "    <tr style=\"text-align: right;\">\n",
       "      <th></th>\n",
       "      <th>reviews</th>\n",
       "      <th>ratings</th>\n",
       "    </tr>\n",
       "  </thead>\n",
       "  <tbody>\n",
       "    <tr>\n",
       "      <th>970</th>\n",
       "      <td>Where is call recording one plus 9r</td>\n",
       "      <td>5.0</td>\n",
       "    </tr>\n",
       "    <tr>\n",
       "      <th>971</th>\n",
       "      <td>Battery issue is there. Camera quality is not ...</td>\n",
       "      <td>1.0</td>\n",
       "    </tr>\n",
       "    <tr>\n",
       "      <th>972</th>\n",
       "      <td>Supreb</td>\n",
       "      <td>5.0</td>\n",
       "    </tr>\n",
       "    <tr>\n",
       "      <th>973</th>\n",
       "      <td>Battery life not that good but other than that...</td>\n",
       "      <td>4.0</td>\n",
       "    </tr>\n",
       "    <tr>\n",
       "      <th>974</th>\n",
       "      <td>Nice product</td>\n",
       "      <td>5.0</td>\n",
       "    </tr>\n",
       "    <tr>\n",
       "      <th>975</th>\n",
       "      <td>To good cell phone like another at this money ...</td>\n",
       "      <td>5.0</td>\n",
       "    </tr>\n",
       "    <tr>\n",
       "      <th>976</th>\n",
       "      <td>Great quality with next level performance</td>\n",
       "      <td>5.0</td>\n",
       "    </tr>\n",
       "    <tr>\n",
       "      <th>977</th>\n",
       "      <td>Some heating issues while charging and while r...</td>\n",
       "      <td>4.0</td>\n",
       "    </tr>\n",
       "    <tr>\n",
       "      <th>978</th>\n",
       "      <td>The refresh is very smooth and the camera is o...</td>\n",
       "      <td>5.0</td>\n",
       "    </tr>\n",
       "    <tr>\n",
       "      <th>979</th>\n",
       "      <td>Phone is excellent</td>\n",
       "      <td>5.0</td>\n",
       "    </tr>\n",
       "    <tr>\n",
       "      <th>980</th>\n",
       "      <td>Soo amazing phone Ever. 🤩 Flagship Killer🔥One ...</td>\n",
       "      <td>5.0</td>\n",
       "    </tr>\n",
       "    <tr>\n",
       "      <th>981</th>\n",
       "      <td>Good performance</td>\n",
       "      <td>5.0</td>\n",
       "    </tr>\n",
       "    <tr>\n",
       "      <th>982</th>\n",
       "      <td>fingerprint reader best</td>\n",
       "      <td>1.0</td>\n",
       "    </tr>\n",
       "    <tr>\n",
       "      <th>983</th>\n",
       "      <td>Very nice product. Extremely satisfied</td>\n",
       "      <td>5.0</td>\n",
       "    </tr>\n",
       "    <tr>\n",
       "      <th>984</th>\n",
       "      <td>Design I liked most and build quality.</td>\n",
       "      <td>4.0</td>\n",
       "    </tr>\n",
       "    <tr>\n",
       "      <th>985</th>\n",
       "      <td>Battery life is not great, but charging is ult...</td>\n",
       "      <td>4.0</td>\n",
       "    </tr>\n",
       "    <tr>\n",
       "      <th>986</th>\n",
       "      <td>Its good at this price</td>\n",
       "      <td>5.0</td>\n",
       "    </tr>\n",
       "    <tr>\n",
       "      <th>987</th>\n",
       "      <td>Very nice products but lack only in camera dep...</td>\n",
       "      <td>4.0</td>\n",
       "    </tr>\n",
       "    <tr>\n",
       "      <th>988</th>\n",
       "      <td>it's nice performance</td>\n",
       "      <td>5.0</td>\n",
       "    </tr>\n",
       "    <tr>\n",
       "      <th>989</th>\n",
       "      <td>V.good</td>\n",
       "      <td>5.0</td>\n",
       "    </tr>\n",
       "  </tbody>\n",
       "</table>\n",
       "</div>"
      ],
      "text/plain": [
       "                                               reviews ratings\n",
       "970                Where is call recording one plus 9r     5.0\n",
       "971  Battery issue is there. Camera quality is not ...     1.0\n",
       "972                                             Supreb     5.0\n",
       "973  Battery life not that good but other than that...     4.0\n",
       "974                                       Nice product     5.0\n",
       "975  To good cell phone like another at this money ...     5.0\n",
       "976          Great quality with next level performance     5.0\n",
       "977  Some heating issues while charging and while r...     4.0\n",
       "978  The refresh is very smooth and the camera is o...     5.0\n",
       "979                                 Phone is excellent     5.0\n",
       "980  Soo amazing phone Ever. 🤩 Flagship Killer🔥One ...     5.0\n",
       "981                                   Good performance     5.0\n",
       "982                            fingerprint reader best     1.0\n",
       "983             Very nice product. Extremely satisfied     5.0\n",
       "984             Design I liked most and build quality.     4.0\n",
       "985  Battery life is not great, but charging is ult...     4.0\n",
       "986                             Its good at this price     5.0\n",
       "987  Very nice products but lack only in camera dep...     4.0\n",
       "988                              it's nice performance     5.0\n",
       "989                                             V.good     5.0"
      ]
     },
     "execution_count": 33,
     "metadata": {},
     "output_type": "execute_result"
    }
   ],
   "source": [
    "df.tail(20)"
   ]
  },
  {
   "cell_type": "code",
   "execution_count": 34,
   "metadata": {},
   "outputs": [
    {
     "data": {
      "text/plain": [
       "967"
      ]
     },
     "execution_count": 34,
     "metadata": {},
     "output_type": "execute_result"
    }
   ],
   "source": [
    "len(df['reviews'].unique())"
   ]
  },
  {
   "cell_type": "code",
   "execution_count": 36,
   "metadata": {},
   "outputs": [
    {
     "data": {
      "text/plain": [
       "(990, 2)"
      ]
     },
     "execution_count": 36,
     "metadata": {},
     "output_type": "execute_result"
    }
   ],
   "source": [
    "df.shape"
   ]
  },
  {
   "cell_type": "code",
   "execution_count": 38,
   "metadata": {},
   "outputs": [
    {
     "data": {
      "text/plain": [
       "5.0    459\n",
       "4.0    264\n",
       "1.0    118\n",
       "3.0    101\n",
       "2.0     48\n",
       "Name: ratings, dtype: int64"
      ]
     },
     "execution_count": 38,
     "metadata": {},
     "output_type": "execute_result"
    }
   ],
   "source": [
    "df['ratings'].value_counts()"
   ]
  },
  {
   "cell_type": "code",
   "execution_count": 40,
   "metadata": {},
   "outputs": [
    {
     "data": {
      "text/plain": [
       "<AxesSubplot:>"
      ]
     },
     "execution_count": 40,
     "metadata": {},
     "output_type": "execute_result"
    },
    {
     "data": {
      "image/png": "[encoded data removed]",
      "text/plain": [
       "<Figure size 432x288 with 1 Axes>"
      ]
     },
     "metadata": {
      "needs_background": "light"
     },
     "output_type": "display_data"
    }
   ],
   "source": [
    "df['ratings'].value_counts().plot(kind='bar')"
   ]
  },
  {
   "cell_type": "code",
   "execution_count": null,
   "metadata": {},
   "outputs": [],
   "source": []
  }
 ],
 "metadata": {
  "kernelspec": {
   "display_name": "Python 3",
   "language": "python",
   "name": "python3"
  },
  "language_info": {
   "codemirror_mode": {
    "name": "ipython",
    "version": 3
   },
   "file_extension": ".py",
   "mimetype": "text/x-python",
   "name": "python",
   "nbconvert_exporter": "python",
   "pygments_lexer": "ipython3",
   "version": "3.8.5"
  }
 },
 "nbformat": 4,
 "nbformat_minor": 4
}
